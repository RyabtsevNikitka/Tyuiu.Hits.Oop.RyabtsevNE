{
 "cells": [
  {
   "cell_type": "markdown",
   "metadata": {},
   "source": [
    "<h1 style=\"color:DodgerBlue\">Индивидальный проект</h1>"
   ]
  },
  {
   "cell_type": "markdown",
   "metadata": {},
   "source": [
    "<h2 style=\"color:DodgerBlue\">Название проекта:</h2>\n",
    "\n",
    "----\n",
    "\n",
    "### Вариант задания 13\n",
    "\n"
   ]
  },
  {
   "cell_type": "markdown",
   "metadata": {},
   "source": [
    "<h2 style=\"color:DodgerBlue\">Описание проекта:</h2>\n",
    "\n",
    "----\n",
    "\n",
    "Создать базовый класс Inventory в C#, который будет представлять информацию о \n",
    "наличии товаров на складе. На основе этого класса разработать 2-3 производных \n",
    "класса, демонстрирующих принципы наследования и полиморфизма. В каждом из \n",
    "классов должны быть реализованы новые атрибуты и методы, а также \n",
    "переопределены некоторые методы базового класса для демонстрации \n",
    "полиморфизма. \n",
    "Требования к базовому классу Inventory: \n",
    "• Атрибуты: ID склада (WarehouseId), Название склада (WarehouseName), \n",
    "Общий объем хранения (StorageCapacity). \n",
    "• Методы: \n",
    "o  \n",
    "o GetStorageStatus(): метод для получения статуса доступного \n",
    "пространства на складе. \n",
    "o AddItem(Item item): метод для добавления товара на склад. \n",
    "o RemoveItem(Item item): метод для удаления товара со склада. \n",
    "Требования к производным классам: \n",
    "1. ПерсональныйСклад \n",
    "(PersonalInventory): \n",
    "Должен \n",
    "содержать \n",
    "дополнительные атрибуты, такие как Владелец склада (OwnerName). \n",
    "Метод GetStorageStatus() должен быть переопределен для отображения \n",
    "информации о владельце склада вместе с статусом хранения. \n",
    "2. ГрупповойСклад (GroupInventory): Должен содержать дополнительные \n",
    "атрибуты, такие как Группа товаров (ProductGroup). Метод AddItem() должен \n",
    "быть переопределен для добавления информации о группе товаров при \n",
    "добавлении нового товара. \n",
    "3. АвтоматизированныйСклад (AutomatedInventory) (если требуется третий \n",
    "класс): \n",
    "Должен содержать дополнительные атрибуты, такие как \n",
    "Автоматизация уровня (AutomationLevel). Метод RemoveItem() должен быть \n",
    "переопределен для добавления информации о уровне автоматизации при \n",
    "удалении товара.\n"
   ]
  },
  {
   "cell_type": "markdown",
   "metadata": {},
   "source": [
    "<h2 style=\"color:DodgerBlue\">Реализация:</h2>\n",
    "\n",
    "----"
   ]
  },
  {
   "cell_type": "code",
   "execution_count": 2,
   "metadata": {
    "dotnet_interactive": {
     "language": "csharp"
    },
    "polyglot_notebook": {
     "kernelName": "csharp"
    }
   },
   "outputs": [
    {
     "name": "stdout",
     "output_type": "stream",
     "text": [
      "Склад: Личный склад, ID: P001\n",
      "Общая вместимость: 100, Используется: 0, Доступно: 100\n",
      "Владелец склада: Иван Иванов\n",
      "Товар Ноутбук добавлен на склад Личный склад\n",
      "Склад: Личный склад, ID: P001\n",
      "Общая вместимость: 100, Используется: 2.5, Доступно: 97.5\n",
      "Владелец склада: Иван Иванов\n",
      "Склад: Групповой склад, ID: G001\n",
      "Общая вместимость: 500, Используется: 0, Доступно: 500\n",
      "Товар Монитор добавлен на склад Групповой склад\n",
      "Товар добавлен в группу: Электроника\n",
      "Склад: Групповой склад, ID: G001\n",
      "Общая вместимость: 500, Используется: 5, Доступно: 495\n",
      "Склад: Автосклад, ID: A001\n",
      "Общая вместимость: 1000, Используется: 0, Доступно: 1000\n",
      "Товар Ноутбук добавлен на склад Автосклад\n",
      "Товар Ноутбук удален со склада Автосклад\n",
      "Уровень автоматизации: 5\n",
      "Склад: Автосклад, ID: A001\n",
      "Общая вместимость: 1000, Используется: 0, Доступно: 1000\n"
     ]
    }
   ],
   "source": [
    "public class Inventory\n",
    "{\n",
    "    public string WarehouseId;\n",
    "    public string WarehouseName;\n",
    "    public double StorageCapacity;\n",
    "    protected double UsedSpace;\n",
    "\n",
    "    public virtual void GetStorageStatus()\n",
    "    {\n",
    "        double availableSpace = StorageCapacity - UsedSpace;\n",
    "        Console.WriteLine($\"Склад: {this.WarehouseName}, ID: {this.WarehouseId}\");\n",
    "        Console.WriteLine($\"Общая вместимость: {this.StorageCapacity}, Используется: {this.UsedSpace}, Доступно: {availableSpace}\");\n",
    "    }\n",
    "\n",
    "    public virtual void AddItem(Item item)\n",
    "    {\n",
    "        Console.WriteLine($\"Товар {item.Name} добавлен на склад {this.WarehouseName}\");\n",
    "        this.UsedSpace += item.Size;\n",
    "    }\n",
    "\n",
    "    public virtual void RemoveItem(Item item)\n",
    "    {\n",
    "        Console.WriteLine($\"Товар {item.Name} удален со склада {this.WarehouseName}\");\n",
    "        this.UsedSpace -= item.Size;\n",
    "    }\n",
    "}\n",
    "\n",
    "public class Item\n",
    "{\n",
    "    public string Name;\n",
    "    public double Size;\n",
    "}\n",
    "\n",
    "public class PersonalInventory : Inventory\n",
    "{\n",
    "    public string OwnerName;\n",
    "\n",
    "    public override void GetStorageStatus()\n",
    "    {\n",
    "        base.GetStorageStatus();\n",
    "        Console.WriteLine($\"Владелец склада: {this.OwnerName}\");\n",
    "    }\n",
    "}\n",
    "\n",
    "public class GroupInventory : Inventory\n",
    "{\n",
    "    public string ProductGroup;\n",
    "\n",
    "    public override void AddItem(Item item)\n",
    "    {\n",
    "        base.AddItem(item);\n",
    "        Console.WriteLine($\"Товар добавлен в группу: {this.ProductGroup}\");\n",
    "    }\n",
    "}\n",
    "\n",
    "public class AutomatedInventory : Inventory\n",
    "{\n",
    "    public int AutomationLevel;\n",
    "\n",
    "    public override void RemoveItem(Item item)\n",
    "    {\n",
    "        base.RemoveItem(item);\n",
    "        Console.WriteLine($\"Уровень автоматизации: {this.AutomationLevel}\");\n",
    "    }\n",
    "}\n",
    "\n",
    "// Использование классов\n",
    "Item myItem1 = new Item();\n",
    "myItem1.Name = \"Ноутбук\";\n",
    "myItem1.Size = 2.5;\n",
    "\n",
    "Item myItem2 = new Item();\n",
    "myItem2.Name = \"Монитор\";\n",
    "myItem2.Size = 5.0;\n",
    "\n",
    "PersonalInventory myPersonal = new PersonalInventory();\n",
    "myPersonal.WarehouseId = \"P001\";\n",
    "myPersonal.WarehouseName = \"Личный склад\";\n",
    "myPersonal.StorageCapacity = 100.0;\n",
    "myPersonal.OwnerName = \"Иван Иванов\";\n",
    "\n",
    "GroupInventory myGroup = new GroupInventory();\n",
    "myGroup.WarehouseId = \"G001\";\n",
    "myGroup.WarehouseName = \"Групповой склад\";\n",
    "myGroup.StorageCapacity = 500.0;\n",
    "myGroup.ProductGroup = \"Электроника\";\n",
    "\n",
    "AutomatedInventory myAutomated = new AutomatedInventory();\n",
    "myAutomated.WarehouseId = \"A001\";\n",
    "myAutomated.WarehouseName = \"Автосклад\";\n",
    "myAutomated.StorageCapacity = 1000.0;\n",
    "myAutomated.AutomationLevel = 5;\n",
    "\n",
    "myPersonal.GetStorageStatus();\n",
    "myPersonal.AddItem(myItem1);\n",
    "myPersonal.GetStorageStatus();\n",
    "\n",
    "myGroup.GetStorageStatus();\n",
    "myGroup.AddItem(myItem2);\n",
    "myGroup.GetStorageStatus();\n",
    "\n",
    "myAutomated.GetStorageStatus();\n",
    "myAutomated.AddItem(myItem1);\n",
    "myAutomated.RemoveItem(myItem1);\n",
    "myAutomated.GetStorageStatus();"
   ]
  }
 ],
 "metadata": {
  "kernelspec": {
   "display_name": ".NET (C#)",
   "language": "C#",
   "name": ".net-csharp"
  },
  "polyglot_notebook": {
   "kernelInfo": {
    "defaultKernelName": "csharp",
    "items": [
     {
      "aliases": [],
      "languageName": "csharp",
      "name": "csharp"
     }
    ]
   }
  }
 },
 "nbformat": 4,
 "nbformat_minor": 2
}
